{
  "nbformat": 4,
  "nbformat_minor": 0,
  "metadata": {
    "colab": {
      "name": "lab Final IA Titanic.ipynb",
      "provenance": []
    },
    "kernelspec": {
      "name": "python3",
      "display_name": "Python 3"
    },
    "language_info": {
      "name": "python"
    }
  },
  "cells": [
    {
      "cell_type": "code",
      "execution_count": null,
      "metadata": {
        "id": "J2XrYKBc9ZS8"
      },
      "outputs": [],
      "source": [
        "# data analysis\n",
        "import pandas as pd\n",
        "import numpy as np\n",
        "from xgboost import XGBClassifier\n",
        "from sklearn import neighbors\n",
        "\n",
        "\n",
        "# data visualization\n",
        "import seaborn as sns\n",
        "import matplotlib.pyplot as plt\n",
        "import plotly.express as px\n",
        "from sklearn.model_selection import train_test_split\n",
        "%matplotlib inline\n"
      ]
    },
    {
      "cell_type": "code",
      "source": [
        "#creamos los datasets de training y de testeo ofrecidos por kaggle\n",
        "train_df = pd.read_csv('/content/sample_data/train.csv')\n",
        "test_df = pd.read_csv('/content/sample_data/test.csv')\n",
        "test_df_copy = test_df.copy()\n",
        "df = [train_df, test_df]"
      ],
      "metadata": {
        "id": "TFvCNxs59i8m"
      },
      "execution_count": null,
      "outputs": []
    },
    {
      "cell_type": "code",
      "source": [
        "train_df.info()"
      ],
      "metadata": {
        "colab": {
          "base_uri": "https://localhost:8080/"
        },
        "id": "ALbT92GAHKgr",
        "outputId": "dd021de9-61a1-48e6-b0a5-97083b47fccc"
      },
      "execution_count": null,
      "outputs": [
        {
          "output_type": "stream",
          "name": "stdout",
          "text": [
            "<class 'pandas.core.frame.DataFrame'>\n",
            "RangeIndex: 8693 entries, 0 to 8692\n",
            "Data columns (total 14 columns):\n",
            " #   Column        Non-Null Count  Dtype  \n",
            "---  ------        --------------  -----  \n",
            " 0   PassengerId   8693 non-null   object \n",
            " 1   HomePlanet    8492 non-null   object \n",
            " 2   CryoSleep     8476 non-null   object \n",
            " 3   Cabin         8494 non-null   object \n",
            " 4   Destination   8511 non-null   object \n",
            " 5   Age           8514 non-null   float64\n",
            " 6   VIP           8490 non-null   object \n",
            " 7   RoomService   8512 non-null   float64\n",
            " 8   FoodCourt     8510 non-null   float64\n",
            " 9   ShoppingMall  8485 non-null   float64\n",
            " 10  Spa           8510 non-null   float64\n",
            " 11  VRDeck        8505 non-null   float64\n",
            " 12  Name          8493 non-null   object \n",
            " 13  Transported   8693 non-null   bool   \n",
            "dtypes: bool(1), float64(6), object(7)\n",
            "memory usage: 891.5+ KB\n"
          ]
        }
      ]
    },
    {
      "cell_type": "code",
      "source": [
        "test_df.info()"
      ],
      "metadata": {
        "colab": {
          "base_uri": "https://localhost:8080/"
        },
        "id": "kjkRvTZKHPhK",
        "outputId": "e3f1da32-039b-4689-bb82-d9eae017e16c"
      },
      "execution_count": null,
      "outputs": [
        {
          "output_type": "stream",
          "name": "stdout",
          "text": [
            "<class 'pandas.core.frame.DataFrame'>\n",
            "RangeIndex: 4277 entries, 0 to 4276\n",
            "Data columns (total 13 columns):\n",
            " #   Column        Non-Null Count  Dtype  \n",
            "---  ------        --------------  -----  \n",
            " 0   PassengerId   4277 non-null   object \n",
            " 1   HomePlanet    4190 non-null   object \n",
            " 2   CryoSleep     4184 non-null   object \n",
            " 3   Cabin         4177 non-null   object \n",
            " 4   Destination   4185 non-null   object \n",
            " 5   Age           4186 non-null   float64\n",
            " 6   VIP           4184 non-null   object \n",
            " 7   RoomService   4195 non-null   float64\n",
            " 8   FoodCourt     4171 non-null   float64\n",
            " 9   ShoppingMall  4179 non-null   float64\n",
            " 10  Spa           4176 non-null   float64\n",
            " 11  VRDeck        4197 non-null   float64\n",
            " 12  Name          4183 non-null   object \n",
            "dtypes: float64(6), object(7)\n",
            "memory usage: 434.5+ KB\n"
          ]
        }
      ]
    },
    {
      "cell_type": "markdown",
      "source": [
        "Tenemos dos tipos de variables numericas y categoricas queremos ver si existen relaciones entre ellas entonces realizamos unos mapas de calor"
      ],
      "metadata": {
        "id": "fafH08uNIiRS"
      }
    },
    {
      "cell_type": "code",
      "source": [
        "#con esta funcion obtenemos todas las columnas separadas si son categoricas\n",
        "# numericas o funcionales no se como decir feature en ingles\n",
        "def get_all_cols(df, target_col, exclude=None):\n",
        "        \n",
        "    if exclude is None:\n",
        "        exclude = []\n",
        "        \n",
        "    # Select categorical columns\n",
        "    object_cols = [cname for cname in df.columns \n",
        "                   if df[cname].dtype == \"object\"]\n",
        "\n",
        "    # Select numerical columns\n",
        "    num_cols = [cname for cname in df.columns \n",
        "                if df[cname].dtype in ['int64', 'float64', 'uint8']]\n",
        "    \n",
        "    all_cols = object_cols + num_cols\n",
        "    exclude_cols = exclude + [target_col]\n",
        "    feature_cols = [col for col in all_cols if col not in exclude_cols]\n",
        "    \n",
        "    return object_cols, num_cols, feature_cols"
      ],
      "metadata": {
        "id": "tellUszMIbmL"
      },
      "execution_count": null,
      "outputs": []
    },
    {
      "cell_type": "code",
      "source": [
        "#Aqui creamos una constante para no tener que escirbir transported para el metodo\n",
        "#utilizamos el metodo para obtener las columnas del dataframe separaditas\n",
        "TARGET = \"Transported\"\n",
        "object_cols, num_cols, feature_cols = get_all_cols(train_df, TARGET)\n",
        "\n",
        "#Buscamos en todas las columans los valores unicos \n",
        "for object_col in object_cols:\n",
        "    train_df_unique_list = train_df[object_col].unique()\n",
        "    print(f'{object_col}:{train_df_unique_list}\\n')\n"
      ],
      "metadata": {
        "colab": {
          "base_uri": "https://localhost:8080/"
        },
        "id": "n-RiQZQzKu4L",
        "outputId": "a4f4a707-7e83-4362-a353-54846c9939b6"
      },
      "execution_count": null,
      "outputs": [
        {
          "output_type": "stream",
          "name": "stdout",
          "text": [
            "PassengerId:['0001_01' '0002_01' '0003_01' ... '9279_01' '9280_01' '9280_02']\n",
            "\n",
            "HomePlanet:['Europa' 'Earth' 'Mars' nan]\n",
            "\n",
            "CryoSleep:[False True nan]\n",
            "\n",
            "Cabin:['B/0/P' 'F/0/S' 'A/0/S' ... 'G/1499/S' 'G/1500/S' 'E/608/S']\n",
            "\n",
            "Destination:['TRAPPIST-1e' 'PSO J318.5-22' '55 Cancri e' nan]\n",
            "\n",
            "VIP:[False True nan]\n",
            "\n",
            "Name:['Maham Ofracculy' 'Juanna Vines' 'Altark Susent' ... 'Fayey Connon'\n",
            " 'Celeon Hontichre' 'Propsh Hontichre']\n",
            "\n"
          ]
        }
      ]
    },
    {
      "cell_type": "code",
      "source": [
        "#Con esto buscamos sacar todos los valores \n",
        "for object_col in object_cols:\n",
        "    obj_val_counts = train_df[object_col].value_counts()\n",
        "    print(f'Cantidad de datos en total: {len(obj_val_counts)}\\n',f'{obj_val_counts}\\n')"
      ],
      "metadata": {
        "colab": {
          "base_uri": "https://localhost:8080/"
        },
        "id": "br8Rina4POZJ",
        "outputId": "597d4bce-dc8b-4d92-9244-3a7d99c3a55c"
      },
      "execution_count": null,
      "outputs": [
        {
          "output_type": "stream",
          "name": "stdout",
          "text": [
            "Cantidad de datos en total: 8693\n",
            " 0001_01    1\n",
            "6136_01    1\n",
            "6141_01    1\n",
            "6139_06    1\n",
            "6139_05    1\n",
            "          ..\n",
            "3126_01    1\n",
            "3124_03    1\n",
            "3124_02    1\n",
            "3124_01    1\n",
            "9280_02    1\n",
            "Name: PassengerId, Length: 8693, dtype: int64\n",
            "\n",
            "Cantidad de datos en total: 3\n",
            " Earth     4602\n",
            "Europa    2131\n",
            "Mars      1759\n",
            "Name: HomePlanet, dtype: int64\n",
            "\n",
            "Cantidad de datos en total: 2\n",
            " False    5439\n",
            "True     3037\n",
            "Name: CryoSleep, dtype: int64\n",
            "\n",
            "Cantidad de datos en total: 6560\n",
            " G/734/S     8\n",
            "G/109/P     7\n",
            "B/201/P     7\n",
            "G/1368/P    7\n",
            "G/981/S     7\n",
            "           ..\n",
            "G/556/P     1\n",
            "E/231/S     1\n",
            "G/545/S     1\n",
            "G/543/S     1\n",
            "F/947/P     1\n",
            "Name: Cabin, Length: 6560, dtype: int64\n",
            "\n",
            "Cantidad de datos en total: 3\n",
            " TRAPPIST-1e      5915\n",
            "55 Cancri e      1800\n",
            "PSO J318.5-22     796\n",
            "Name: Destination, dtype: int64\n",
            "\n",
            "Cantidad de datos en total: 2\n",
            " False    8291\n",
            "True      199\n",
            "Name: VIP, dtype: int64\n",
            "\n",
            "Cantidad de datos en total: 8473\n",
            " Gollux Reedall        2\n",
            "Elaney Webstephrey    2\n",
            "Grake Porki           2\n",
            "Sus Coolez            2\n",
            "Apix Wala             2\n",
            "                     ..\n",
            "Jamela Griffy         1\n",
            "Hardy Griffy          1\n",
            "Salley Mckinn         1\n",
            "Mall Frasp            1\n",
            "Propsh Hontichre      1\n",
            "Name: Name, Length: 8473, dtype: int64\n",
            "\n"
          ]
        }
      ]
    },
    {
      "cell_type": "markdown",
      "source": [
        "Con esta informacion podemos ver que hay algunas variables categoricas que podriamos pasar a one hot"
      ],
      "metadata": {
        "id": "Mzt8MajDOUI5"
      }
    },
    {
      "cell_type": "code",
      "source": [
        "#vamos a llenar los valores que hacen falta con los valores mas comunes de cada columna\n",
        "# y reemplazamos los valores booleanos por 1 y 0\n",
        "train_df['HomePlanet']= train_df['HomePlanet'].fillna('Earth')\n",
        "test_df['HomePlanet']= test_df['HomePlanet'].fillna('Earth')\n",
        "\n",
        "train_df['Destination']= train_df['Destination'].fillna('TRAPPIST-1e')\n",
        "test_df['Destination']= test_df['Destination'].fillna('TRAPPIST-1e')\n",
        "\n",
        "train_df['CryoSleep']= train_df['CryoSleep'].fillna(False).astype(int)\n",
        "test_df['CryoSleep']= test_df['CryoSleep'].fillna(False).astype(int)\n",
        "\n",
        "train_df['VIP']= train_df['VIP'].fillna(False).astype(int)\n",
        "test_df['VIP']= test_df['VIP'].fillna(False).astype(int)\n",
        "\n",
        "train_df.head()"
      ],
      "metadata": {
        "colab": {
          "base_uri": "https://localhost:8080/",
          "height": 357
        },
        "id": "1v4VKJf5N6Sy",
        "outputId": "fc9b8845-437b-49cd-f5da-583d74ebb314"
      },
      "execution_count": null,
      "outputs": [
        {
          "output_type": "execute_result",
          "data": {
            "text/plain": [
              "  PassengerId HomePlanet  CryoSleep  Cabin  Destination   Age  VIP  \\\n",
              "0     0001_01     Europa          0  B/0/P  TRAPPIST-1e  39.0    0   \n",
              "1     0002_01      Earth          0  F/0/S  TRAPPIST-1e  24.0    0   \n",
              "2     0003_01     Europa          0  A/0/S  TRAPPIST-1e  58.0    1   \n",
              "3     0003_02     Europa          0  A/0/S  TRAPPIST-1e  33.0    0   \n",
              "4     0004_01      Earth          0  F/1/S  TRAPPIST-1e  16.0    0   \n",
              "\n",
              "   RoomService  FoodCourt  ShoppingMall     Spa  VRDeck               Name  \\\n",
              "0          0.0        0.0           0.0     0.0     0.0    Maham Ofracculy   \n",
              "1        109.0        9.0          25.0   549.0    44.0       Juanna Vines   \n",
              "2         43.0     3576.0           0.0  6715.0    49.0      Altark Susent   \n",
              "3          0.0     1283.0         371.0  3329.0   193.0       Solam Susent   \n",
              "4        303.0       70.0         151.0   565.0     2.0  Willy Santantines   \n",
              "\n",
              "   Transported  \n",
              "0        False  \n",
              "1         True  \n",
              "2        False  \n",
              "3        False  \n",
              "4         True  "
            ],
            "text/html": [
              "\n",
              "  <div id=\"df-ca302e0b-0e6f-4e1a-a778-c2611eafbb8a\">\n",
              "    <div class=\"colab-df-container\">\n",
              "      <div>\n",
              "<style scoped>\n",
              "    .dataframe tbody tr th:only-of-type {\n",
              "        vertical-align: middle;\n",
              "    }\n",
              "\n",
              "    .dataframe tbody tr th {\n",
              "        vertical-align: top;\n",
              "    }\n",
              "\n",
              "    .dataframe thead th {\n",
              "        text-align: right;\n",
              "    }\n",
              "</style>\n",
              "<table border=\"1\" class=\"dataframe\">\n",
              "  <thead>\n",
              "    <tr style=\"text-align: right;\">\n",
              "      <th></th>\n",
              "      <th>PassengerId</th>\n",
              "      <th>HomePlanet</th>\n",
              "      <th>CryoSleep</th>\n",
              "      <th>Cabin</th>\n",
              "      <th>Destination</th>\n",
              "      <th>Age</th>\n",
              "      <th>VIP</th>\n",
              "      <th>RoomService</th>\n",
              "      <th>FoodCourt</th>\n",
              "      <th>ShoppingMall</th>\n",
              "      <th>Spa</th>\n",
              "      <th>VRDeck</th>\n",
              "      <th>Name</th>\n",
              "      <th>Transported</th>\n",
              "    </tr>\n",
              "  </thead>\n",
              "  <tbody>\n",
              "    <tr>\n",
              "      <th>0</th>\n",
              "      <td>0001_01</td>\n",
              "      <td>Europa</td>\n",
              "      <td>0</td>\n",
              "      <td>B/0/P</td>\n",
              "      <td>TRAPPIST-1e</td>\n",
              "      <td>39.0</td>\n",
              "      <td>0</td>\n",
              "      <td>0.0</td>\n",
              "      <td>0.0</td>\n",
              "      <td>0.0</td>\n",
              "      <td>0.0</td>\n",
              "      <td>0.0</td>\n",
              "      <td>Maham Ofracculy</td>\n",
              "      <td>False</td>\n",
              "    </tr>\n",
              "    <tr>\n",
              "      <th>1</th>\n",
              "      <td>0002_01</td>\n",
              "      <td>Earth</td>\n",
              "      <td>0</td>\n",
              "      <td>F/0/S</td>\n",
              "      <td>TRAPPIST-1e</td>\n",
              "      <td>24.0</td>\n",
              "      <td>0</td>\n",
              "      <td>109.0</td>\n",
              "      <td>9.0</td>\n",
              "      <td>25.0</td>\n",
              "      <td>549.0</td>\n",
              "      <td>44.0</td>\n",
              "      <td>Juanna Vines</td>\n",
              "      <td>True</td>\n",
              "    </tr>\n",
              "    <tr>\n",
              "      <th>2</th>\n",
              "      <td>0003_01</td>\n",
              "      <td>Europa</td>\n",
              "      <td>0</td>\n",
              "      <td>A/0/S</td>\n",
              "      <td>TRAPPIST-1e</td>\n",
              "      <td>58.0</td>\n",
              "      <td>1</td>\n",
              "      <td>43.0</td>\n",
              "      <td>3576.0</td>\n",
              "      <td>0.0</td>\n",
              "      <td>6715.0</td>\n",
              "      <td>49.0</td>\n",
              "      <td>Altark Susent</td>\n",
              "      <td>False</td>\n",
              "    </tr>\n",
              "    <tr>\n",
              "      <th>3</th>\n",
              "      <td>0003_02</td>\n",
              "      <td>Europa</td>\n",
              "      <td>0</td>\n",
              "      <td>A/0/S</td>\n",
              "      <td>TRAPPIST-1e</td>\n",
              "      <td>33.0</td>\n",
              "      <td>0</td>\n",
              "      <td>0.0</td>\n",
              "      <td>1283.0</td>\n",
              "      <td>371.0</td>\n",
              "      <td>3329.0</td>\n",
              "      <td>193.0</td>\n",
              "      <td>Solam Susent</td>\n",
              "      <td>False</td>\n",
              "    </tr>\n",
              "    <tr>\n",
              "      <th>4</th>\n",
              "      <td>0004_01</td>\n",
              "      <td>Earth</td>\n",
              "      <td>0</td>\n",
              "      <td>F/1/S</td>\n",
              "      <td>TRAPPIST-1e</td>\n",
              "      <td>16.0</td>\n",
              "      <td>0</td>\n",
              "      <td>303.0</td>\n",
              "      <td>70.0</td>\n",
              "      <td>151.0</td>\n",
              "      <td>565.0</td>\n",
              "      <td>2.0</td>\n",
              "      <td>Willy Santantines</td>\n",
              "      <td>True</td>\n",
              "    </tr>\n",
              "  </tbody>\n",
              "</table>\n",
              "</div>\n",
              "      <button class=\"colab-df-convert\" onclick=\"convertToInteractive('df-ca302e0b-0e6f-4e1a-a778-c2611eafbb8a')\"\n",
              "              title=\"Convert this dataframe to an interactive table.\"\n",
              "              style=\"display:none;\">\n",
              "        \n",
              "  <svg xmlns=\"http://www.w3.org/2000/svg\" height=\"24px\"viewBox=\"0 0 24 24\"\n",
              "       width=\"24px\">\n",
              "    <path d=\"M0 0h24v24H0V0z\" fill=\"none\"/>\n",
              "    <path d=\"M18.56 5.44l.94 2.06.94-2.06 2.06-.94-2.06-.94-.94-2.06-.94 2.06-2.06.94zm-11 1L8.5 8.5l.94-2.06 2.06-.94-2.06-.94L8.5 2.5l-.94 2.06-2.06.94zm10 10l.94 2.06.94-2.06 2.06-.94-2.06-.94-.94-2.06-.94 2.06-2.06.94z\"/><path d=\"M17.41 7.96l-1.37-1.37c-.4-.4-.92-.59-1.43-.59-.52 0-1.04.2-1.43.59L10.3 9.45l-7.72 7.72c-.78.78-.78 2.05 0 2.83L4 21.41c.39.39.9.59 1.41.59.51 0 1.02-.2 1.41-.59l7.78-7.78 2.81-2.81c.8-.78.8-2.07 0-2.86zM5.41 20L4 18.59l7.72-7.72 1.47 1.35L5.41 20z\"/>\n",
              "  </svg>\n",
              "      </button>\n",
              "      \n",
              "  <style>\n",
              "    .colab-df-container {\n",
              "      display:flex;\n",
              "      flex-wrap:wrap;\n",
              "      gap: 12px;\n",
              "    }\n",
              "\n",
              "    .colab-df-convert {\n",
              "      background-color: #E8F0FE;\n",
              "      border: none;\n",
              "      border-radius: 50%;\n",
              "      cursor: pointer;\n",
              "      display: none;\n",
              "      fill: #1967D2;\n",
              "      height: 32px;\n",
              "      padding: 0 0 0 0;\n",
              "      width: 32px;\n",
              "    }\n",
              "\n",
              "    .colab-df-convert:hover {\n",
              "      background-color: #E2EBFA;\n",
              "      box-shadow: 0px 1px 2px rgba(60, 64, 67, 0.3), 0px 1px 3px 1px rgba(60, 64, 67, 0.15);\n",
              "      fill: #174EA6;\n",
              "    }\n",
              "\n",
              "    [theme=dark] .colab-df-convert {\n",
              "      background-color: #3B4455;\n",
              "      fill: #D2E3FC;\n",
              "    }\n",
              "\n",
              "    [theme=dark] .colab-df-convert:hover {\n",
              "      background-color: #434B5C;\n",
              "      box-shadow: 0px 1px 3px 1px rgba(0, 0, 0, 0.15);\n",
              "      filter: drop-shadow(0px 1px 2px rgba(0, 0, 0, 0.3));\n",
              "      fill: #FFFFFF;\n",
              "    }\n",
              "  </style>\n",
              "\n",
              "      <script>\n",
              "        const buttonEl =\n",
              "          document.querySelector('#df-ca302e0b-0e6f-4e1a-a778-c2611eafbb8a button.colab-df-convert');\n",
              "        buttonEl.style.display =\n",
              "          google.colab.kernel.accessAllowed ? 'block' : 'none';\n",
              "\n",
              "        async function convertToInteractive(key) {\n",
              "          const element = document.querySelector('#df-ca302e0b-0e6f-4e1a-a778-c2611eafbb8a');\n",
              "          const dataTable =\n",
              "            await google.colab.kernel.invokeFunction('convertToInteractive',\n",
              "                                                     [key], {});\n",
              "          if (!dataTable) return;\n",
              "\n",
              "          const docLinkHtml = 'Like what you see? Visit the ' +\n",
              "            '<a target=\"_blank\" href=https://colab.research.google.com/notebooks/data_table.ipynb>data table notebook</a>'\n",
              "            + ' to learn more about interactive tables.';\n",
              "          element.innerHTML = '';\n",
              "          dataTable['output_type'] = 'display_data';\n",
              "          await google.colab.output.renderOutput(dataTable, element);\n",
              "          const docLink = document.createElement('div');\n",
              "          docLink.innerHTML = docLinkHtml;\n",
              "          element.appendChild(docLink);\n",
              "        }\n",
              "      </script>\n",
              "    </div>\n",
              "  </div>\n",
              "  "
            ]
          },
          "metadata": {},
          "execution_count": 11
        }
      ]
    },
    {
      "cell_type": "code",
      "source": [
        "#ahora llenamos los valores que hacen falta de las columnas numericas con la media\n",
        "train_df[\"Age\"] = train_df[\"Age\"].fillna(train_df[\"Age\"].mean())\n",
        "train_df[\"RoomService\"] = train_df[\"RoomService\"].fillna(train_df[\"RoomService\"].mean())\n",
        "train_df[\"FoodCourt\"] = train_df[\"FoodCourt\"].fillna(train_df[\"FoodCourt\"].mean())\n",
        "train_df[\"ShoppingMall\"] = train_df[\"ShoppingMall\"].fillna(train_df[\"ShoppingMall\"].mean())\n",
        "train_df[\"Spa\"] = train_df[\"Spa\"].fillna(train_df[\"Spa\"].mean())\n",
        "train_df[\"VRDeck\"] = train_df[\"VRDeck\"].fillna(train_df[\"VRDeck\"].mean())\n",
        "\n",
        "test_df[\"Age\"] = test_df[\"Age\"].fillna(test_df[\"Age\"].mean())\n",
        "test_df[\"RoomService\"] = test_df[\"RoomService\"].fillna(test_df[\"RoomService\"].mean())\n",
        "test_df[\"FoodCourt\"] = test_df[\"FoodCourt\"].fillna(test_df[\"FoodCourt\"].mean())\n",
        "test_df[\"ShoppingMall\"] = test_df[\"ShoppingMall\"].fillna(test_df[\"ShoppingMall\"].mean())\n",
        "test_df[\"Spa\"] = test_df[\"Spa\"].fillna(test_df[\"Spa\"].mean())\n",
        "test_df[\"VRDeck\"] = test_df[\"VRDeck\"].fillna(test_df[\"VRDeck\"].mean())\n",
        "\n",
        "print(\"Entrenamiento:\",\"\\n\",train_df.isnull().any(),\"\\n\")\n",
        "print(\"Prueba:\",\"\\n\",test_df.isnull().any())\n"
      ],
      "metadata": {
        "colab": {
          "base_uri": "https://localhost:8080/"
        },
        "id": "GV0CBhgdQYrA",
        "outputId": "13b56f18-0b88-484d-e487-14d65d12ac6c"
      },
      "execution_count": null,
      "outputs": [
        {
          "output_type": "stream",
          "name": "stdout",
          "text": [
            "Entrenamiento: \n",
            " PassengerId     False\n",
            "HomePlanet      False\n",
            "CryoSleep       False\n",
            "Cabin            True\n",
            "Destination     False\n",
            "Age             False\n",
            "VIP             False\n",
            "RoomService     False\n",
            "FoodCourt       False\n",
            "ShoppingMall    False\n",
            "Spa             False\n",
            "VRDeck          False\n",
            "Name             True\n",
            "Transported     False\n",
            "dtype: bool \n",
            "\n",
            "Prueba: \n",
            " PassengerId     False\n",
            "HomePlanet      False\n",
            "CryoSleep       False\n",
            "Cabin            True\n",
            "Destination     False\n",
            "Age             False\n",
            "VIP             False\n",
            "RoomService     False\n",
            "FoodCourt       False\n",
            "ShoppingMall    False\n",
            "Spa             False\n",
            "VRDeck          False\n",
            "Name             True\n",
            "dtype: bool\n"
          ]
        }
      ]
    },
    {
      "cell_type": "markdown",
      "source": [
        "Aun tenemos columnas con valores faltantes que son el nombre y la cabina tendremos que eliminar los valore faltantes"
      ],
      "metadata": {
        "id": "0O5t_HBhSWE4"
      }
    },
    {
      "cell_type": "code",
      "source": [
        "train_df = train_df.dropna(axis=0)\n",
        "test_df = test_df.dropna(axis=0)\n",
        "\n",
        "print(\"Entrenamiento:\",\"\\n\",train_df.isnull().any(),\"\\n\")\n",
        "print(\"Prueba:\",\"\\n\",test_df.isnull().any())"
      ],
      "metadata": {
        "colab": {
          "base_uri": "https://localhost:8080/"
        },
        "id": "j9dkSGjXSOhg",
        "outputId": "87fb30aa-fd15-40a8-8557-7ad9958981a9"
      },
      "execution_count": null,
      "outputs": [
        {
          "output_type": "stream",
          "name": "stdout",
          "text": [
            "Entrenamiento: \n",
            " PassengerId     False\n",
            "HomePlanet      False\n",
            "CryoSleep       False\n",
            "Cabin           False\n",
            "Destination     False\n",
            "Age             False\n",
            "VIP             False\n",
            "RoomService     False\n",
            "FoodCourt       False\n",
            "ShoppingMall    False\n",
            "Spa             False\n",
            "VRDeck          False\n",
            "Name            False\n",
            "Transported     False\n",
            "dtype: bool \n",
            "\n",
            "Prueba: \n",
            " PassengerId     False\n",
            "HomePlanet      False\n",
            "CryoSleep       False\n",
            "Cabin           False\n",
            "Destination     False\n",
            "Age             False\n",
            "VIP             False\n",
            "RoomService     False\n",
            "FoodCourt       False\n",
            "ShoppingMall    False\n",
            "Spa             False\n",
            "VRDeck          False\n",
            "Name            False\n",
            "dtype: bool\n"
          ]
        }
      ]
    },
    {
      "cell_type": "markdown",
      "source": [
        "Ya no hay valores nulos en nuestros datos"
      ],
      "metadata": {
        "id": "sxhPCVh7Wgk3"
      }
    },
    {
      "cell_type": "code",
      "source": [
        "plt.figure(figsize = (18,18))\n",
        "sns.heatmap(train_df.corr(), annot = True, cmap = \"RdYlGn\")\n",
        "\n",
        "plt.show()"
      ],
      "metadata": {
        "colab": {
          "base_uri": "https://localhost:8080/",
          "height": 776
        },
        "id": "wXkQj2oOvLzE",
        "outputId": "5535fc08-fafb-453c-8ab8-e7c3d3877090"
      },
      "execution_count": null,
      "outputs": [
        {
          "output_type": "display_data",
          "data": {
            "text/plain": [
              "<Figure size 1296x1296 with 2 Axes>"
            ],
            "image/png": "[encoded data removed]"
          },
          "metadata": {
            "needs_background": "light"
          }
        }
      ]
    },
    {
      "cell_type": "code",
      "source": [
        "#Ahora separamos los datos de entrenamiento \n",
        "nombre_de_las_variables_de_entrada = ['CryoSleep','RoomService']\n",
        "\n",
        "X = train_df[nombre_de_las_variables_de_entrada]\n",
        "y = train_df[TARGET]\n",
        "\n",
        "X_train, X_valid, y_train, y_valid = train_test_split(X, y, test_size = 0.2, random_state = 42)"
      ],
      "metadata": {
        "id": "O7J_Cp44Wj6P"
      },
      "execution_count": null,
      "outputs": []
    },
    {
      "cell_type": "markdown",
      "source": [
        ""
      ],
      "metadata": {
        "id": "YxPZSIYMWgf3"
      }
    },
    {
      "cell_type": "code",
      "source": [
        "\n",
        "k   = 3  #Número de vecinos cercanos.\n",
        "knn = neighbors.KNeighborsClassifier(n_neighbors=k)\n",
        "k   = 3  #Número de vecinos cercanos.\n",
        "knn = neighbors.KNeighborsClassifier(n_neighbors=k) #Instanciamos el clasificador KNN.\n",
        "knn.fit(X_train, y_train)\n",
        "knn.score(X_train, y_train) \n"
      ],
      "metadata": {
        "colab": {
          "base_uri": "https://localhost:8080/"
        },
        "id": "x_NJXzYAsK9W",
        "outputId": "5d3871fe-bf6e-4f85-c002-1752dfe29f50"
      },
      "execution_count": null,
      "outputs": [
        {
          "output_type": "execute_result",
          "data": {
            "text/plain": [
              "0.7278481012658228"
            ]
          },
          "metadata": {},
          "execution_count": 31
        }
      ]
    }
  ]
}